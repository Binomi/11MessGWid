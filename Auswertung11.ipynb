{
 "metadata": {
  "name": "Auswertung11",
  "signature": "sha256:ac901104b2eeb61f52a22fc632e1ce3a8af051b2f96054b7edb6ff39b3a687b9"
 },
 "nbformat": 3,
 "nbformat_minor": 0,
 "worksheets": [
  {
   "cells": [
    {
     "cell_type": "code",
     "collapsed": false,
     "input": [
      "import maabara as ma\n",
      "import math\n",
      "from numpy import array\n",
      "from uncertainties import ufloat"
     ],
     "language": "python",
     "metadata": {},
     "outputs": [],
     "prompt_number": 22
    },
    {
     "cell_type": "code",
     "collapsed": false,
     "input": [
      "def pTex(x):\n",
      "    return \"$\"+str(ufloat(x[0],x[1])).replace(\"+/-\",\" \\pm \")+\"$\"\n",
      "def pTex2(x,n):\n",
      "    return pTex([x[0]*math.pow(10,n),x[1]*math.pow(10,n)])"
     ],
     "language": "python",
     "metadata": {},
     "outputs": [],
     "prompt_number": 23
    },
    {
     "cell_type": "heading",
     "level": 2,
     "metadata": {},
     "source": [
      "Schritt 2"
     ]
    },
    {
     "cell_type": "code",
     "collapsed": false,
     "input": [
      "daten = [0.772,0.767,0.773,0.770,0.773,0.803]\n",
      "dat2 = ma.data.student_t(daten)\n",
      "m = [0.872933,0.001615]#Skt./10^-6C\n",
      "U = [220.0,0.1]\n",
      "print dat2"
     ],
     "language": "python",
     "metadata": {},
     "outputs": [
      {
       "output_type": "stream",
       "stream": "stdout",
       "text": [
        "(0.77633333333333343, 0.0057388121109202134)\n"
       ]
      }
     ],
     "prompt_number": 2
    },
    {
     "cell_type": "code",
     "collapsed": false,
     "input": [
      "n = 65.\n",
      "r = 0.1 #meter\n",
      "d = 0.005 #meter\n",
      "a = (n-1)*(math.pi*r**2/d+r*(math.log(16*math.pi*r/d)-1))\n",
      "print a"
     ],
     "language": "python",
     "metadata": {},
     "outputs": [
      {
       "output_type": "stream",
       "stream": "stdout",
       "text": [
        "439.967385302\n"
       ]
      }
     ],
     "prompt_number": 3
    },
    {
     "cell_type": "code",
     "collapsed": false,
     "input": [
      "Ladung = ma.uncertainty.Sheet(\"x/m/10**6\",\"Q\")\n",
      "Ladung.v('m',m[0],m[1])\n",
      "Ladung.v('x',dat2[0],dat2[1])\n",
      "Ladung.ps()\n",
      "Q = Ladung.get_result()"
     ],
     "language": "python",
     "metadata": {},
     "outputs": [
      {
       "output_type": "stream",
       "stream": "stdout",
       "text": [
        "Q=\\frac{x}{1000000 \\cdot m}\n",
        "\n",
        "Q=\\left(8.89 \\pm 0.07\\right) \\times 10^{-7}\n",
        "\n",
        "\\sigma_{Q}=\\frac{1}{1000000 \\cdot m^{2}} \\cdot \\sqrt{m^{2} \\cdot \\sigma_{x}^{2} + \\sigma_{m}^{2} \\cdot x^{2}}\n",
        "\n"
       ]
      }
     ],
     "prompt_number": 4
    },
    {
     "cell_type": "code",
     "collapsed": false,
     "input": [
      "Kapazitaet = ma.uncertainty.Sheet(\"q/u\",\"C\")\n",
      "Kapazitaet.v('q',Q[0],Q[1],'Q')\n",
      "Kapazitaet.v('u',U[0],U[1],'U')\n",
      "Kapazitaet.ps()\n",
      "C = Kapazitaet.get_result()"
     ],
     "language": "python",
     "metadata": {},
     "outputs": [
      {
       "output_type": "stream",
       "stream": "stdout",
       "text": [
        "C=\\frac{Q}{U}\n",
        "\n",
        "C=\\left(4.04 \\pm 0.03\\right) \\times 10^{-9}\n",
        "\n",
        "\\sigma_{C}=\\frac{1}{U^{2}} \\cdot \\sqrt{Q^{2} \\cdot \\sigma_{U}^{2} + \\sigma_{Q}^{2} \\cdot U^{2}}\n",
        "\n"
       ]
      }
     ],
     "prompt_number": 5
    },
    {
     "cell_type": "code",
     "collapsed": false,
     "input": [
      "epsilon0 = ma.uncertainty.Sheet(\"c/a\",\"\\\\varepsilon_0\")\n",
      "epsilon0.v('a',a)\n",
      "epsilon0.v('c',C[0],C[1],'C')\n",
      "epsilon0.ps()"
     ],
     "language": "python",
     "metadata": {},
     "outputs": [
      {
       "output_type": "stream",
       "stream": "stdout",
       "text": [
        "\\varepsilon_0=\\frac{C}{a}\n",
        "\n",
        "\\varepsilon_0=\\left(9.19 \\pm 0.07\\right) \\times 10^{-12}\n",
        "\n",
        "\\sigma_{\\varepsilon_0}=\\frac{\\sigma_{C}}{a}\n",
        "\n"
       ]
      },
      {
       "output_type": "pyout",
       "prompt_number": 6,
       "text": [
        "9.188067091985019e-12+/-7.013936074992901e-14"
       ]
      }
     ],
     "prompt_number": 6
    },
    {
     "cell_type": "heading",
     "level": 2,
     "metadata": {},
     "source": [
      "Schritt 3"
     ]
    },
    {
     "cell_type": "code",
     "collapsed": false,
     "input": [
      "m_iso = [-0.0160008, 0.001515]\n",
      "m_x_iso = [-0.102979, 0.01058]"
     ],
     "language": "python",
     "metadata": {},
     "outputs": [],
     "prompt_number": 7
    },
    {
     "cell_type": "code",
     "collapsed": false,
     "input": [
      "R_iso = ma.uncertainty.Sheet(\"-1/(m*c)\",\"R_\\\\text{iso}\")\n",
      "R_iso.v('m',m_iso[0],m_iso[1],\"m_\\\\text{iso}\")\n",
      "R_iso.v('c',C[0],C[1],\"C\")\n",
      "R_iso.ps()\n",
      "R_iso = R_iso.get_result()"
     ],
     "language": "python",
     "metadata": {},
     "outputs": [
      {
       "output_type": "stream",
       "stream": "stdout",
       "text": [
        "R_\\text{iso}=- \\frac{1}{C \\cdot m_\\text{iso}}\n",
        "\n",
        "R_\\text{iso}=\\left(1.5 \\pm 0.1\\right) \\times 10^{10}\n",
        "\n",
        "\\sigma_{R_\\text{iso}}=\\frac{1}{C^{2} \\cdot m_\\text{iso}^{2}} \\cdot \\sqrt{C^{2} \\cdot \\sigma_{m_\\text{iso}}^{2} + m_\\text{iso}^{2} \\cdot \\sigma_{C}^{2}}\n",
        "\n"
       ]
      }
     ],
     "prompt_number": 8
    },
    {
     "cell_type": "code",
     "collapsed": false,
     "input": [
      "R = ma.uncertainty.Sheet(\"-1/(m*c)\",\"R\")\n",
      "R.v('m',m_x_iso[0],m_x_iso[1],\"m\")\n",
      "R.v('c',C[0],C[1],\"C\")\n",
      "R.ps()\n",
      "R = R.get_result()"
     ],
     "language": "python",
     "metadata": {},
     "outputs": [
      {
       "output_type": "stream",
       "stream": "stdout",
       "text": [
        "R=- \\frac{1}{C \\cdot m}\n",
        "\n",
        "R=\\left(2.4 \\pm 0.2\\right) \\times 10^{9}\n",
        "\n",
        "\\sigma_{R}=\\frac{1}{C^{2} \\cdot m^{2}} \\cdot \\sqrt{C^{2} \\cdot \\sigma_{m}^{2} + m^{2} \\cdot \\sigma_{C}^{2}}\n",
        "\n"
       ]
      }
     ],
     "prompt_number": 9
    },
    {
     "cell_type": "code",
     "collapsed": false,
     "input": [
      "R_x = ma.uncertainty.Sheet(\"1/(1/r-1/p)\",\"R_x\")\n",
      "R_x.v('r',R[0],R[1],\"R\")\n",
      "R_x.v('p',R_iso[0],R_iso[1],\"R_\\\\text{iso}\")\n",
      "R_x.ps()"
     ],
     "language": "python",
     "metadata": {},
     "outputs": [
      {
       "output_type": "stream",
       "stream": "stdout",
       "text": [
        "R_x=\\frac{1}{\\frac{1}{R} - \\frac{1}{R_\\text{iso}}}\n",
        "\n",
        "R_x=\\left(2.8 \\pm 0.4\\right) \\times 10^{9}\n",
        "\n",
        "\\sigma_{R_x}=\\frac{1}{\\left(R_\\text{iso} - R\\right)^{2}} \\cdot \\sqrt{R_\\text{iso}^{4} \\cdot \\sigma_{R}^{2} + R^{4} \\cdot \\sigma_{R_\\text{iso}}^{2}}\n",
        "\n"
       ]
      },
      {
       "output_type": "pyout",
       "prompt_number": 10,
       "text": [
        "2844100527.777861+/-350451144.13734335"
       ]
      }
     ],
     "prompt_number": 10
    },
    {
     "cell_type": "heading",
     "level": 2,
     "metadata": {},
     "source": [
      "Schritt 5"
     ]
    },
    {
     "cell_type": "code",
     "collapsed": false,
     "input": [
      "#Abfallzeiten:\n",
      "#Fehler: \n",
      "t_sigma= 0.1e-3\n",
      "#Kondensator alleine\n",
      "t_b1 = 8.4e-3\n",
      "t_b2 = 8.54e-3\n",
      "t_b = ma.student_t([t_b1,t_b2])\n",
      "\n",
      "#Kondesator mit 2MOhm\n",
      "t_c = [5.86e-3,t_sigma]\n",
      "#Kondensator mit R_x\n",
      "t_d = [8.5e-3,t_sigma]\n",
      "#Folienkondensator mit 2MOhm\n",
      "t_g = [4.272e-3,t_sigma]\n",
      "\n",
      "t = [t_b,t_c,t_d,t_g]\n",
      "m = []\n",
      "c = math.log(1.0/9.0)\n",
      "for i in range(len(t)):\n",
      "    m.append([c/t[i][0],abs(t[i][1]*c/t[i][0]**2)])\n",
      "    print \"&\",pTex([t[i][0]*1000,t[i][1]*1000]),\"&\",pTex(m[i]),\"\\\\\\\\\""
     ],
     "language": "python",
     "metadata": {},
     "outputs": [
      {
       "output_type": "stream",
       "stream": "stdout",
       "text": [
        "& $8.47 \\pm 0.09$ & $-259.4 \\pm 2.8$ \\\\\n",
        "& $5.86 \\pm 0.10$ & $-375.0 \\pm 6.4$ \\\\\n",
        "& $8.50 \\pm 0.10$ & $-258.5 \\pm 3.0$ \\\\\n",
        "& $4.27 \\pm 0.10$ & $-514.3 \\pm 12.0$ \\\\\n"
       ]
      }
     ],
     "prompt_number": 25
    },
    {
     "cell_type": "code",
     "collapsed": false,
     "input": [
      "R_oszi = ma.uncertainty.Sheet(\"r*(m/n-1)\",\"R_\\\\text{oszi}\")\n",
      "R_oszi.v('r',2.019e6,-1e3,\"R_2\")\n",
      "R_oszi.v('m',m[1][0],m[1][1],\"m_\\\\text{ges}\")\n",
      "R_oszi.v('n',m[0][0],m[0][1],\"m_\\\\text{oszi}\")\n",
      "R_oszi.ps()\n",
      "R_oszi = R_oszi.get_result()"
     ],
     "language": "python",
     "metadata": {},
     "outputs": [
      {
       "output_type": "stream",
       "stream": "stdout",
       "text": [
        "R_\\text{oszi}=R_2 \\cdot \\left(\\frac{m_\\text{ges}}{m_\\text{oszi}} - 1\\right)\n",
        "\n",
        "R_\\text{oszi}=\\left(9.0 \\pm 0.6\\right) \\times 10^{5}\n",
        "\n",
        "\\sigma_{R_\\text{oszi}}=\\frac{1}{m_\\text{oszi}^{2}} \\cdot \\sqrt{m_\\text{ges}^{2} \\cdot R_2^{2} \\cdot \\sigma_{m_\\text{oszi}}^{2} + m_\\text{oszi}^{2} \\cdot \\left(R_2^{2} \\cdot \\sigma_{m_\\text{ges}}^{2} + \\sigma_{R_2}^{2} \\cdot \\left(m_\\text{ges} - m_\\text{oszi}\\right)^{2}\\right)}\n",
        "\n"
       ]
      }
     ],
     "prompt_number": 12
    },
    {
     "cell_type": "code",
     "collapsed": false,
     "input": [
      "KapazitaetOszi = ma.Sheet(\"-1/(m*r)\",\"C\")\n",
      "KapazitaetOszi.v('m',m[0][0],m[0][1],\"m_\\\\text{oszi}\")\n",
      "KapazitaetOszi.v('r',R_oszi[0],R_oszi[1],\"R_\\\\text{oszi}\")\n",
      "KapazitaetOszi.ps()\n",
      "C_oszi = KapazitaetOszi.get_result()"
     ],
     "language": "python",
     "metadata": {},
     "outputs": [
      {
       "output_type": "stream",
       "stream": "stdout",
       "text": [
        "C=- \\frac{1}{m_\\text{oszi} \\cdot R_\\text{oszi}}\n",
        "\n",
        "C=\\left(4.3 \\pm 0.3\\right) \\times 10^{-9}\n",
        "\n",
        "\\sigma_{C}=\\frac{1}{m_\\text{oszi}^{2} \\cdot R_\\text{oszi}^{2}} \\cdot \\sqrt{m_\\text{oszi}^{2} \\cdot \\sigma_{R_\\text{oszi}}^{2} + R_\\text{oszi}^{2} \\cdot \\sigma_{m_\\text{oszi}}^{2}}\n",
        "\n"
       ]
      }
     ],
     "prompt_number": 13
    },
    {
     "cell_type": "heading",
     "level": 2,
     "metadata": {},
     "source": [
      "Schritt 6"
     ]
    },
    {
     "cell_type": "code",
     "collapsed": false,
     "input": [
      "r_x = ma.uncertainty.Sheet(\"r/(m/n-1)\",\"R_x\")\n",
      "r_x.v('r',R_oszi[0],R_oszi[1],\"R_\\\\text{oszi}\")\n",
      "r_x.v('m',m[2][0],m[2][1],\"m_x\")\n",
      "r_x.v('n',m[0][0],m[0][1],\"m_\\\\text{oszi}\")\n",
      "r_x.ps()"
     ],
     "language": "python",
     "metadata": {},
     "outputs": [
      {
       "output_type": "stream",
       "stream": "stdout",
       "text": [
        "R_x=\\frac{R_\\text{oszi}}{\\frac{m_x}{m_\\text{oszi}} - 1}\n",
        "\n",
        "R_x=\\left(-0.3 \\pm 1.2\\right) \\times 10^{9}\n",
        "\n",
        "\\sigma_{R_x}=\\frac{1}{\\left(m_x - m_\\text{oszi}\\right)^{2}} \\cdot \\sqrt{m_\\text{oszi}^{2} \\cdot \\sigma_{R_\\text{oszi}}^{2} \\cdot \\left(m_x - m_\\text{oszi}\\right)^{2} + R_\\text{oszi}^{2} \\cdot \\left(m_x^{2} \\cdot \\sigma_{m_\\text{oszi}}^{2} + m_\\text{oszi}^{2} \\cdot \\sigma_{m_x}^{2}\\right)}\n",
        "\n"
       ]
      },
      {
       "output_type": "pyout",
       "prompt_number": 14,
       "text": [
        "-254786774.76422653+/-1154258289.145381"
       ]
      }
     ],
     "prompt_number": 14
    },
    {
     "cell_type": "heading",
     "level": 2,
     "metadata": {},
     "source": [
      "Schritt 7"
     ]
    },
    {
     "cell_type": "code",
     "collapsed": false,
     "input": [
      "drosselspule = [-2.7,2.9,-1.5,2.0,-0.9,1.5,-0.4,1.1,-0.15,0.9,0.05,0.8,0.1,0.7,0.25,0.65,0.3,0.6,0.3]\n",
      "drosselspule_offset = 0.5\n",
      "drosselspule_periode = 1.277e-3\n",
      "for i in range(len(drosselspule)):\n",
      "    drosselspule[i]-=drosselspule_offset"
     ],
     "language": "python",
     "metadata": {},
     "outputs": [],
     "prompt_number": 15
    },
    {
     "cell_type": "code",
     "collapsed": false,
     "input": [
      "luftspule = [3.0,-3.0,2.0,-2.5,1.2,-2.1,1.1,-1.8,0.6,-1.55,0.5,-1.3,0.2,-1.1,0.1,-0.95,0.0,-0.9,-0.1,-0.8,-0.25,-0.7]\n",
      "luftspule_offset = -0.45\n",
      "luftspule_periode = 600e-6/11.0\n",
      "for i in range(len(luftspule)):\n",
      "    luftspule[i]-=luftspule_offset"
     ],
     "language": "python",
     "metadata": {},
     "outputs": [],
     "prompt_number": 16
    },
    {
     "cell_type": "code",
     "collapsed": false,
     "input": [
      "fobj = open(\"Drosselspule.dat\", \"w\") \n",
      "for i in range(len(drosselspule)): \n",
      "    fobj.write(str(i*drosselspule_periode/2) + \" \" + str(abs(drosselspule[i])) + \"\\n\")\n",
      "fobj.close()\n",
      "fobj = open(\"Luftspule.dat\", \"w\") \n",
      "for i in range(len(luftspule)): \n",
      "    fobj.write(str(i*luftspule_periode/2) + \" \" + str(abs(luftspule[i])) + \"\\n\")\n",
      "fobj.close()"
     ],
     "language": "python",
     "metadata": {},
     "outputs": [],
     "prompt_number": 17
    },
    {
     "cell_type": "code",
     "collapsed": false,
     "input": [
      "Beta_Drossel = [315.291,11.65]\n",
      "Beta_Luft = [4502.31,176.4]\n",
      "Beta = [Beta_Drossel,Beta_Luft]\n",
      "periode = [drosselspule_periode,luftspule_periode] "
     ],
     "language": "python",
     "metadata": {},
     "outputs": [],
     "prompt_number": 18
    },
    {
     "cell_type": "code",
     "collapsed": false,
     "input": [
      "L = []\n",
      "for i in range(len(Beta)):\n",
      "    L.append(ma.Sheet(\"1/c*t**2/(4*pi**2+(b*t)**2)\",\"L\"))\n",
      "    L[i].v('c',C_oszi[0],C_oszi[1],\"C\")\n",
      "    L[i].v('t',periode[i],0.02*periode[i],\"T\")\n",
      "    L[i].v('b',Beta[i][0],Beta[i][1],\"\\\\beta\")\n",
      "    L[i].ps()\n",
      "    L[i] = L[i].get_result()"
     ],
     "language": "python",
     "metadata": {},
     "outputs": [
      {
       "output_type": "stream",
       "stream": "stdout",
       "text": [
        "L=\\frac{T^{2}}{C \\cdot \\left(\\beta^{2} \\cdot T^{2} + 4 \\cdot \\pi^{2}\\right)}\n",
        "\n",
        "L=9.6 \\pm 0.7\n",
        "\n",
        "\\sigma_{L}=\\frac{T}{C^{2} \\cdot \\left(\\beta^{2} \\cdot T^{2} + 4 \\cdot \\pi^{2}\\right)^{2}} \\cdot \\sqrt{4 \\cdot \\beta^{2} \\cdot C^{2} \\cdot \\sigma_{\\beta}^{2} \\cdot T^{6} + 64 \\cdot \\pi^{4} \\cdot C^{2} \\cdot \\sigma_{T}^{2} + \\sigma_{C}^{2} \\cdot T^{2} \\cdot \\left(\\beta^{2} \\cdot T^{2} + 4 \\cdot \\pi^{2}\\right)^{2}}\n",
        "\n",
        "L=\\frac{T^{2}}{C \\cdot \\left(\\beta^{2} \\cdot T^{2} + 4 \\cdot \\pi^{2}\\right)}\n"
       ]
      },
      {
       "output_type": "stream",
       "stream": "stdout",
       "text": [
        "\n",
        "L=0.018 \\pm 0.001\n",
        "\n",
        "\\sigma_{L}=\\frac{T}{C^{2} \\cdot \\left(\\beta^{2} \\cdot T^{2} + 4 \\cdot \\pi^{2}\\right)^{2}} \\cdot \\sqrt{4 \\cdot \\beta^{2} \\cdot C^{2} \\cdot \\sigma_{\\beta}^{2} \\cdot T^{6} + 64 \\cdot \\pi^{4} \\cdot C^{2} \\cdot \\sigma_{T}^{2} + \\sigma_{C}^{2} \\cdot T^{2} \\cdot \\left(\\beta^{2} \\cdot T^{2} + 4 \\cdot \\pi^{2}\\right)^{2}}\n",
        "\n"
       ]
      }
     ],
     "prompt_number": 19
    },
    {
     "cell_type": "code",
     "collapsed": false,
     "input": [
      "R_L = []\n",
      "for i in range(len(Beta)):\n",
      "    R_L.append(ma.Sheet(\"2*l*b\",\"R_L\"))\n",
      "    R_L[i].v('l',L[i][0],L[i][1],\"L\")\n",
      "    R_L[i].v('b',Beta[i][0],Beta[i][1],\"\\\\beta\")\n",
      "    R_L[i].ps()\n",
      "    R_L[i] = R_L[i].get_result()"
     ],
     "language": "python",
     "metadata": {},
     "outputs": [
      {
       "output_type": "stream",
       "stream": "stdout",
       "text": [
        "R_L=2 \\cdot \\beta \\cdot L\n",
        "\n",
        "R_L=\\left(6.1 \\pm 0.5\\right) \\times 10^{3}\n",
        "\n",
        "\\sigma_{R_L}=2 \\cdot \\sqrt{\\beta^{2} \\cdot \\sigma_{L}^{2} + L^{2} \\cdot \\sigma_{\\beta}^{2}}\n",
        "\n",
        "R_L=2 \\cdot \\beta \\cdot L\n"
       ]
      },
      {
       "output_type": "stream",
       "stream": "stdout",
       "text": [
        "\n",
        "R_L=\\left(1.6 \\pm 0.1\\right) \\times 10^{2}\n",
        "\n",
        "\\sigma_{R_L}=2 \\cdot \\sqrt{\\beta^{2} \\cdot \\sigma_{L}^{2} + L^{2} \\cdot \\sigma_{\\beta}^{2}}\n",
        "\n"
       ]
      }
     ],
     "prompt_number": 20
    },
    {
     "cell_type": "heading",
     "level": 2,
     "metadata": {},
     "source": [
      "Schritt 9"
     ]
    },
    {
     "cell_type": "code",
     "collapsed": false,
     "input": [
      "C_2 = ma.Sheet(\"(m/n)*c\",\"C_2\")\n",
      "C_2.v('m',m[1][0],m[1][1],\"m_c\")\n",
      "C_2.v('n',m[3][0],m[3][1],\"m_g\")\n",
      "C_2.v('c',C_oszi[0],C_oszi[1],\"C_\\\\text{Pl.}\")\n",
      "C_2.ps()"
     ],
     "language": "python",
     "metadata": {},
     "outputs": [
      {
       "output_type": "stream",
       "stream": "stdout",
       "text": [
        "C_2=\\frac{C_\\text{Pl.}}{m_g} \\cdot m_c\n",
        "\n",
        "C_2=\\left(3.1 \\pm 0.2\\right) \\times 10^{-9}\n",
        "\n",
        "\\sigma_{C_2}=\\frac{1}{m_g^{2}} \\cdot \\sqrt{C_\\text{Pl.}^{2} \\cdot m_c^{2} \\cdot \\sigma_{m_g}^{2} + m_g^{2} \\cdot \\left(C_\\text{Pl.}^{2} \\cdot \\sigma_{m_c}^{2} + m_c^{2} \\cdot \\sigma_{C_\\text{Pl.}}^{2}\\right)}\n",
        "\n"
       ]
      },
      {
       "output_type": "pyout",
       "prompt_number": 21,
       "text": [
        "3.1250961211353323e-09+/-2.2704994749702138e-10"
       ]
      }
     ],
     "prompt_number": 21
    },
    {
     "cell_type": "code",
     "collapsed": false,
     "input": [],
     "language": "python",
     "metadata": {},
     "outputs": [],
     "prompt_number": 21
    }
   ],
   "metadata": {}
  }
 ]
}