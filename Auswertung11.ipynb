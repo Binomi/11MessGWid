{
 "metadata": {
  "name": "",
  "signature": "sha256:b62c07311928f05ba205861b0cc25cde7da3a536a10078f0e4e7539335263234"
 },
 "nbformat": 3,
 "nbformat_minor": 0,
 "worksheets": [
  {
   "cells": [
    {
     "cell_type": "code",
     "collapsed": false,
     "input": [
      "import maabara as ma\n",
      "import math"
     ],
     "language": "python",
     "metadata": {},
     "outputs": [],
     "prompt_number": 1
    },
    {
     "cell_type": "heading",
     "level": 2,
     "metadata": {},
     "source": [
      "Schritt 2"
     ]
    },
    {
     "cell_type": "code",
     "collapsed": false,
     "input": [
      "daten = [0.772,0.767,0.773,0.770,0.773,0.803]\n",
      "dat2 = ma.data.student_t(daten)\n",
      "m = [0.872933,0.001615]#Skt./10^-6C\n",
      "U = [220.0,0.1]\n",
      "print dat2"
     ],
     "language": "python",
     "metadata": {},
     "outputs": [
      {
       "output_type": "stream",
       "stream": "stdout",
       "text": [
        "(0.77633333333333343, 0.0057388121109202134)\n"
       ]
      }
     ],
     "prompt_number": 2
    },
    {
     "cell_type": "code",
     "collapsed": false,
     "input": [
      "n = 65.\n",
      "r = 0.1 #meter\n",
      "d = 0.005 #meter\n",
      "a = (n-1)*(math.pi*r**2/d+r*(math.log(16*math.pi*r/d)-1))\n",
      "print a"
     ],
     "language": "python",
     "metadata": {},
     "outputs": [
      {
       "output_type": "stream",
       "stream": "stdout",
       "text": [
        "439.967385302\n"
       ]
      }
     ],
     "prompt_number": 3
    },
    {
     "cell_type": "code",
     "collapsed": false,
     "input": [
      "Ladung = ma.uncertainty.Sheet(\"x/m/10**6\",\"Q\")\n",
      "Ladung.v('m',m[0],m[1])\n",
      "Ladung.v('x',dat2[0],dat2[1])\n",
      "Ladung.print_result()\n",
      "Q = Ladung.get_result()"
     ],
     "language": "python",
     "metadata": {},
     "outputs": [
      {
       "latex": [
        "$$Q=\\frac{x}{1000000 \\cdot m}$$"
       ],
       "metadata": {},
       "output_type": "display_data",
       "text": [
        "<IPython.core.display.Math at 0x56089f0>"
       ]
      },
      {
       "output_type": "stream",
       "stream": "stdout",
       "text": [
        "Q=\\frac{x}{1000000 \\cdot m}\n",
        "\n"
       ]
      },
      {
       "latex": [
        "$$Q=\\left(8.89 \\pm 0.07\\right) \\times 10^{-7}$$"
       ],
       "metadata": {},
       "output_type": "display_data",
       "text": [
        "<IPython.core.display.Math at 0x5637d70>"
       ]
      },
      {
       "output_type": "stream",
       "stream": "stdout",
       "text": [
        "Q=\\left(8.89 \\pm 0.07\\right) \\times 10^{-7}\n",
        "\n"
       ]
      },
      {
       "latex": [
        "$$\\sigma_{Q}=\\frac{1}{1000000 \\cdot m^{2}} \\cdot \\sqrt{m^{2} \\cdot \\sigma_{x}^{2} + \\sigma_{m}^{2} \\cdot x^{2}}$$"
       ],
       "metadata": {},
       "output_type": "display_data",
       "text": [
        "<IPython.core.display.Math at 0x5637090>"
       ]
      },
      {
       "output_type": "stream",
       "stream": "stdout",
       "text": [
        "\\sigma_{Q}=\\frac{1}{1000000 \\cdot m^{2}} \\cdot \\sqrt{m^{2} \\cdot \\sigma_{x}^{2} + \\sigma_{m}^{2} \\cdot x^{2}}\n",
        "\n"
       ]
      }
     ],
     "prompt_number": 4
    },
    {
     "cell_type": "code",
     "collapsed": false,
     "input": [
      "epsilon0 = ma.uncertainty.Sheet(\"q/a/u\",\"\\\\varepsilon_0\")\n",
      "epsilon0.v('a',a)\n",
      "epsilon0.v('q',Q[0],Q[1],'Q')\n",
      "epsilon0.v('u',U[0],U[1],'U')\n",
      "epsilon0.print_result()"
     ],
     "language": "python",
     "metadata": {},
     "outputs": [
      {
       "latex": [
        "$$\\varepsilon_0=\\frac{Q}{a \\cdot U}$$"
       ],
       "metadata": {},
       "output_type": "display_data",
       "text": [
        "<IPython.core.display.Math at 0x56089f0>"
       ]
      },
      {
       "output_type": "stream",
       "stream": "stdout",
       "text": [
        "\\varepsilon_0=\\frac{Q}{a \\cdot U}\n",
        "\n"
       ]
      },
      {
       "latex": [
        "$$\\varepsilon_0=\\left(9.19 \\pm 0.07\\right) \\times 10^{-12}$$"
       ],
       "metadata": {},
       "output_type": "display_data",
       "text": [
        "<IPython.core.display.Math at 0x5637db0>"
       ]
      },
      {
       "output_type": "stream",
       "stream": "stdout",
       "text": [
        "\\varepsilon_0=\\left(9.19 \\pm 0.07\\right) \\times 10^{-12}\n",
        "\n"
       ]
      },
      {
       "latex": [
        "$$\\sigma_{\\varepsilon_0}=\\frac{1}{a \\cdot U^{2}} \\cdot \\sqrt{Q^{2} \\cdot \\sigma_{U}^{2} + \\sigma_{Q}^{2} \\cdot U^{2}}$$"
       ],
       "metadata": {},
       "output_type": "display_data",
       "text": [
        "<IPython.core.display.Math at 0x56373f0>"
       ]
      },
      {
       "output_type": "stream",
       "stream": "stdout",
       "text": [
        "\\sigma_{\\varepsilon_0}=\\frac{1}{a \\cdot U^{2}} \\cdot \\sqrt{Q^{2} \\cdot \\sigma_{U}^{2} + \\sigma_{Q}^{2} \\cdot U^{2}}\n",
        "\n"
       ]
      },
      {
       "metadata": {},
       "output_type": "pyout",
       "prompt_number": 5,
       "text": [
        "9.188067091987084e-12+/-7.013936074987566e-14"
       ]
      }
     ],
     "prompt_number": 5
    },
    {
     "cell_type": "code",
     "collapsed": false,
     "input": [],
     "language": "python",
     "metadata": {},
     "outputs": [],
     "prompt_number": 5
    }
   ],
   "metadata": {}
  }
 ]
}