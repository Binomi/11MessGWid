{
 "metadata": {
  "name": "",
  "signature": "sha256:98573d93b04fede33f2621c3bc3b9ad14e5d28e09426cd561ae7b316426912fb"
 },
 "nbformat": 3,
 "nbformat_minor": 0,
 "worksheets": [
  {
   "cells": [
    {
     "cell_type": "code",
     "collapsed": false,
     "input": [
      "import maabara as ma\n",
      "import math"
     ],
     "language": "python",
     "metadata": {},
     "outputs": [],
     "prompt_number": 2
    },
    {
     "cell_type": "heading",
     "level": 2,
     "metadata": {},
     "source": [
      "Schritt 2"
     ]
    },
    {
     "cell_type": "code",
     "collapsed": false,
     "input": [
      "daten = [0.772,0.767,0.773,0.770,0.773,0.803]\n",
      "dat2 = ma.data.student_t(daten)\n",
      "m = [0.872933,0.001615]#Skt./10^-6C\n",
      "U = [220.0,0.1]\n",
      "print dat2"
     ],
     "language": "python",
     "metadata": {},
     "outputs": [
      {
       "output_type": "stream",
       "stream": "stdout",
       "text": [
        "(0.77633333333333343, 0.0057388121109202134)\n"
       ]
      }
     ],
     "prompt_number": 3
    },
    {
     "cell_type": "code",
     "collapsed": false,
     "input": [
      "n = 65.\n",
      "r = 0.1 #meter\n",
      "d = 0.005 #meter\n",
      "a = (n-1)*(math.pi*r**2/d+r*(math.log(16*math.pi*r/d)-1))\n",
      "print a"
     ],
     "language": "python",
     "metadata": {},
     "outputs": [
      {
       "output_type": "stream",
       "stream": "stdout",
       "text": [
        "439.967385302\n"
       ]
      }
     ],
     "prompt_number": 4
    },
    {
     "cell_type": "code",
     "collapsed": false,
     "input": [
      "Ladung = ma.uncertainty.Sheet(\"x/m/10**6\",\"Q\")\n",
      "Ladung.v('m',m[0],m[1])\n",
      "Ladung.v('x',dat2[0],dat2[1])\n",
      "Ladung.print_result()\n",
      "Q = Ladung.get_result()"
     ],
     "language": "python",
     "metadata": {},
     "outputs": [
      {
       "latex": [
        "$$Q=\\frac{x}{1000000 \\cdot m}$$"
       ],
       "metadata": {},
       "output_type": "display_data",
       "text": [
        "<IPython.core.display.Math at 0x5854590>"
       ]
      },
      {
       "output_type": "stream",
       "stream": "stdout",
       "text": [
        "Q=\\frac{x}{1000000 \\cdot m}\n",
        "\n"
       ]
      },
      {
       "latex": [
        "$$Q=\\left(8.89 \\pm 0.07\\right) \\times 10^{-7}$$"
       ],
       "metadata": {},
       "output_type": "display_data",
       "text": [
        "<IPython.core.display.Math at 0x58544f0>"
       ]
      },
      {
       "output_type": "stream",
       "stream": "stdout",
       "text": [
        "Q=\\left(8.89 \\pm 0.07\\right) \\times 10^{-7}\n",
        "\n"
       ]
      },
      {
       "latex": [
        "$$\\sigma_{Q}=\\frac{1}{1000000 \\cdot m^{2}} \\cdot \\sqrt{m^{2} \\cdot \\sigma_{x}^{2} + \\sigma_{m}^{2} \\cdot x^{2}}$$"
       ],
       "metadata": {},
       "output_type": "display_data",
       "text": [
        "<IPython.core.display.Math at 0x58546d0>"
       ]
      },
      {
       "output_type": "stream",
       "stream": "stdout",
       "text": [
        "\\sigma_{Q}=\\frac{1}{1000000 \\cdot m^{2}} \\cdot \\sqrt{m^{2} \\cdot \\sigma_{x}^{2} + \\sigma_{m}^{2} \\cdot x^{2}}\n",
        "\n"
       ]
      }
     ],
     "prompt_number": 5
    },
    {
     "cell_type": "code",
     "collapsed": false,
     "input": [
      "Kapazitaet = ma.uncertainty.Sheet(\"q/u\",\"C\")\n",
      "Kapazitaet.v('q',Q[0],Q[1],'Q')\n",
      "Kapazitaet.v('u',U[0],U[1],'U')\n",
      "Kapazitaet.print_result()\n",
      "C = Kapazitaet.get_result()"
     ],
     "language": "python",
     "metadata": {},
     "outputs": [
      {
       "latex": [
        "$$C=\\frac{Q}{U}$$"
       ],
       "metadata": {},
       "output_type": "display_data",
       "text": [
        "<IPython.core.display.Math at 0x58546b0>"
       ]
      },
      {
       "output_type": "stream",
       "stream": "stdout",
       "text": [
        "C=\\frac{Q}{U}\n",
        "\n"
       ]
      },
      {
       "latex": [
        "$$C=\\left(4.04 \\pm 0.03\\right) \\times 10^{-9}$$"
       ],
       "metadata": {},
       "output_type": "display_data",
       "text": [
        "<IPython.core.display.Math at 0x5854b30>"
       ]
      },
      {
       "output_type": "stream",
       "stream": "stdout",
       "text": [
        "C=\\left(4.04 \\pm 0.03\\right) \\times 10^{-9}\n",
        "\n"
       ]
      },
      {
       "latex": [
        "$$\\sigma_{C}=\\frac{1}{U^{2}} \\cdot \\sqrt{Q^{2} \\cdot \\sigma_{U}^{2} + \\sigma_{Q}^{2} \\cdot U^{2}}$$"
       ],
       "metadata": {},
       "output_type": "display_data",
       "text": [
        "<IPython.core.display.Math at 0x58547b0>"
       ]
      },
      {
       "output_type": "stream",
       "stream": "stdout",
       "text": [
        "\\sigma_{C}=\\frac{1}{U^{2}} \\cdot \\sqrt{Q^{2} \\cdot \\sigma_{U}^{2} + \\sigma_{Q}^{2} \\cdot U^{2}}\n",
        "\n"
       ]
      }
     ],
     "prompt_number": 6
    },
    {
     "cell_type": "code",
     "collapsed": false,
     "input": [
      "epsilon0 = ma.uncertainty.Sheet(\"c/a\",\"\\\\varepsilon_0\")\n",
      "epsilon0.v('a',a)\n",
      "epsilon0.v('c',C[0],C[1],'C')\n",
      "epsilon0.print_result()"
     ],
     "language": "python",
     "metadata": {},
     "outputs": [
      {
       "latex": [
        "$$\\varepsilon_0=\\frac{C}{a}$$"
       ],
       "metadata": {},
       "output_type": "display_data",
       "text": [
        "<IPython.core.display.Math at 0x584dcb0>"
       ]
      },
      {
       "output_type": "stream",
       "stream": "stdout",
       "text": [
        "\\varepsilon_0=\\frac{C}{a}\n",
        "\n"
       ]
      },
      {
       "latex": [
        "$$\\varepsilon_0=\\left(9.19 \\pm 0.07\\right) \\times 10^{-12}$$"
       ],
       "metadata": {},
       "output_type": "display_data",
       "text": [
        "<IPython.core.display.Math at 0x5854fb0>"
       ]
      },
      {
       "output_type": "stream",
       "stream": "stdout",
       "text": [
        "\\varepsilon_0=\\left(9.19 \\pm 0.07\\right) \\times 10^{-12}\n",
        "\n"
       ]
      },
      {
       "latex": [
        "$$\\sigma_{\\varepsilon_0}=\\frac{\\sigma_{C}}{a}$$"
       ],
       "metadata": {},
       "output_type": "display_data",
       "text": [
        "<IPython.core.display.Math at 0x579ce50>"
       ]
      },
      {
       "output_type": "stream",
       "stream": "stdout",
       "text": [
        "\\sigma_{\\varepsilon_0}=\\frac{\\sigma_{C}}{a}\n",
        "\n"
       ]
      },
      {
       "metadata": {},
       "output_type": "pyout",
       "prompt_number": 7,
       "text": [
        "9.188067091985019e-12+/-7.013936074992901e-14"
       ]
      }
     ],
     "prompt_number": 7
    },
    {
     "cell_type": "heading",
     "level": 2,
     "metadata": {},
     "source": [
      "Schritt 3"
     ]
    },
    {
     "cell_type": "code",
     "collapsed": false,
     "input": [
      "m_iso = [-0.0160008, 0.001515]\n",
      "m_x_iso = [-0.102979, 0.01058]"
     ],
     "language": "python",
     "metadata": {},
     "outputs": [],
     "prompt_number": 21
    },
    {
     "cell_type": "code",
     "collapsed": false,
     "input": [
      "R_iso = ma.uncertainty.Sheet(\"-1/(m*c)\",\"R_\\\\text{iso}\")\n",
      "R_iso.v('m',m_iso[0],m_iso[1],\"m_\\\\text{iso}\")\n",
      "R_iso.v('c',C[0],C[1],\"C\")\n",
      "R_iso.print_result()\n",
      "R_iso = R_iso.get_result()"
     ],
     "language": "python",
     "metadata": {},
     "outputs": [
      {
       "latex": [
        "$$R_\\text{iso}=- \\frac{1}{C \\cdot m_\\text{iso}}$$"
       ],
       "metadata": {},
       "output_type": "display_data",
       "text": [
        "<IPython.core.display.Math at 0x5862a50>"
       ]
      },
      {
       "output_type": "stream",
       "stream": "stdout",
       "text": [
        "R_\\text{iso}=- \\frac{1}{C \\cdot m_\\text{iso}}\n",
        "\n"
       ]
      },
      {
       "latex": [
        "$$R_\\text{iso}=\\left(1.5 \\pm 0.1\\right) \\times 10^{10}$$"
       ],
       "metadata": {},
       "output_type": "display_data",
       "text": [
        "<IPython.core.display.Math at 0x5862310>"
       ]
      },
      {
       "output_type": "stream",
       "stream": "stdout",
       "text": [
        "R_\\text{iso}=\\left(1.5 \\pm 0.1\\right) \\times 10^{10}\n",
        "\n"
       ]
      },
      {
       "latex": [
        "$$\\sigma_{R_\\text{iso}}=\\frac{1}{C^{2} \\cdot m_\\text{iso}^{2}} \\cdot \\sqrt{C^{2} \\cdot \\sigma_{m_\\text{iso}}^{2} + m_\\text{iso}^{2} \\cdot \\sigma_{C}^{2}}$$"
       ],
       "metadata": {},
       "output_type": "display_data",
       "text": [
        "<IPython.core.display.Math at 0x58621d0>"
       ]
      },
      {
       "output_type": "stream",
       "stream": "stdout",
       "text": [
        "\\sigma_{R_\\text{iso}}=\\frac{1}{C^{2} \\cdot m_\\text{iso}^{2}} \\cdot \\sqrt{C^{2} \\cdot \\sigma_{m_\\text{iso}}^{2} + m_\\text{iso}^{2} \\cdot \\sigma_{C}^{2}}\n",
        "\n"
       ]
      }
     ],
     "prompt_number": 19
    },
    {
     "cell_type": "code",
     "collapsed": false,
     "input": [
      "R = ma.uncertainty.Sheet(\"-1/(m*c)\",\"R\")\n",
      "R.v('m',m_x_iso[0],m_x_iso[1],\"m\")\n",
      "R.v('c',C[0],C[1],\"C\")\n",
      "R.p()\n",
      "R = R.get_result()"
     ],
     "language": "python",
     "metadata": {},
     "outputs": [
      {
       "latex": [
        "$$R=- \\frac{1}{C \\cdot m}$$"
       ],
       "metadata": {},
       "output_type": "display_data",
       "text": [
        "<IPython.core.display.Math at 0xc132ed0>"
       ]
      },
      {
       "output_type": "stream",
       "stream": "stdout",
       "text": [
        "R=- \\frac{1}{C \\cdot m}\n",
        "\n"
       ]
      },
      {
       "latex": [
        "$$R=\\left(2.4 \\pm 0.2\\right) \\times 10^{9}$$"
       ],
       "metadata": {},
       "output_type": "display_data",
       "text": [
        "<IPython.core.display.Math at 0xc132a30>"
       ]
      },
      {
       "output_type": "stream",
       "stream": "stdout",
       "text": [
        "R=\\left(2.4 \\pm 0.2\\right) \\times 10^{9}\n",
        "\n"
       ]
      },
      {
       "latex": [
        "$$\\sigma_{R}=\\frac{1}{C^{2} \\cdot m^{2}} \\cdot \\sqrt{C^{2} \\cdot \\sigma_{m}^{2} + m^{2} \\cdot \\sigma_{C}^{2}}$$"
       ],
       "metadata": {},
       "output_type": "display_data",
       "text": [
        "<IPython.core.display.Math at 0x594e830>"
       ]
      },
      {
       "output_type": "stream",
       "stream": "stdout",
       "text": [
        "\\sigma_{R}=\\frac{1}{C^{2} \\cdot m^{2}} \\cdot \\sqrt{C^{2} \\cdot \\sigma_{m}^{2} + m^{2} \\cdot \\sigma_{C}^{2}}\n",
        "\n"
       ]
      }
     ],
     "prompt_number": 20
    },
    {
     "cell_type": "code",
     "collapsed": false,
     "input": [
      "R_x = ma.uncertainty.Sheet(\"1/(1/r-1/r2)\",\"R_x\")\n",
      "R_x.v('r',R[0],R[1],\"R\")\n",
      "R_x.v('r2',R_iso[0],R_iso[1],\"R_\\\\text{iso}\")\n",
      "R_x.print_result()"
     ],
     "language": "python",
     "metadata": {},
     "outputs": [
      {
       "latex": [
        "$$R_x=\\frac{1}{- \\frac{1}{r_{2}} + \\frac{1}{R}}$$"
       ],
       "metadata": {},
       "output_type": "display_data",
       "text": [
        "<IPython.core.display.Math at 0xc0d7d10>"
       ]
      },
      {
       "output_type": "stream",
       "stream": "stdout",
       "text": [
        "R_x=\\frac{1}{- \\frac{1}{r_{2}} + \\frac{1}{R}}\n",
        "\n"
       ]
      },
      {
       "latex": [
        "$$R_x=\\left(2.8 \\pm 0.4\\right) \\times 10^{9}$$"
       ],
       "metadata": {},
       "output_type": "display_data",
       "text": [
        "<IPython.core.display.Math at 0xc0d7af0>"
       ]
      },
      {
       "output_type": "stream",
       "stream": "stdout",
       "text": [
        "R_x=\\left(2.8 \\pm 0.4\\right) \\times 10^{9}\n",
        "\n"
       ]
      },
      {
       "latex": [
        "$$\\sigma_{R_x}=\\frac{1}{\\left(R - r_{2}\\right)^{2}} \\cdot \\sqrt{R^{4} \\cdot \\sigma_{r2}^{2} + r_{2}^{4} \\cdot \\sigma_{R}^{2}}$$"
       ],
       "metadata": {},
       "output_type": "display_data",
       "text": [
        "<IPython.core.display.Math at 0xc0d78f0>"
       ]
      },
      {
       "output_type": "stream",
       "stream": "stdout",
       "text": [
        "\\sigma_{R_x}=\\frac{1}{\\left(R - r_{2}\\right)^{2}} \\cdot \\sqrt{R^{4} \\cdot \\sigma_{r2}^{2} + r_{2}^{4} \\cdot \\sigma_{R}^{2}}\n",
        "\n"
       ]
      },
      {
       "metadata": {},
       "output_type": "pyout",
       "prompt_number": 22,
       "text": [
        "2844100527.777861+/-350451144.13734335"
       ]
      }
     ],
     "prompt_number": 22
    },
    {
     "cell_type": "code",
     "collapsed": false,
     "input": [],
     "language": "python",
     "metadata": {},
     "outputs": []
    }
   ],
   "metadata": {}
  }
 ]
}