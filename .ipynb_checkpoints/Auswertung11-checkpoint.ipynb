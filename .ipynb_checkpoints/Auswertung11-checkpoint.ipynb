{
 "metadata": {
  "name": "",
  "signature": "sha256:3da8745c0c1228a54c2c4939ba56a23b746704b88681531cefd9fff280d603d8"
 },
 "nbformat": 3,
 "nbformat_minor": 0,
 "worksheets": [
  {
   "cells": [
    {
     "cell_type": "code",
     "collapsed": false,
     "input": [
      "import maabara as ma\n",
      "import math"
     ],
     "language": "python",
     "metadata": {},
     "outputs": [],
     "prompt_number": 5
    },
    {
     "cell_type": "heading",
     "level": 2,
     "metadata": {},
     "source": [
      "Schritt 2"
     ]
    },
    {
     "cell_type": "code",
     "collapsed": false,
     "input": [
      "daten = [0.772,0.767,0.773,0.770,0.773,0.803]\n",
      "dat2 = ma.data.student_t(daten)\n",
      "m = [0.872933,0.001615]#Skt./10^-6C\n",
      "U = [220.0,0.1]"
     ],
     "language": "python",
     "metadata": {},
     "outputs": [],
     "prompt_number": 18
    },
    {
     "cell_type": "code",
     "collapsed": false,
     "input": [
      "n = 65.\n",
      "r = 0.1 #meter\n",
      "d = 0.005 #meter\n",
      "a = (n-1)*(math.pi*r**2/d+r*(math.log(16*math.pi*r/d)-1))\n",
      "print a"
     ],
     "language": "python",
     "metadata": {},
     "outputs": [
      {
       "output_type": "stream",
       "stream": "stdout",
       "text": [
        "439.967385302\n"
       ]
      }
     ],
     "prompt_number": 15
    },
    {
     "cell_type": "code",
     "collapsed": false,
     "input": [
      "Ladung = ma.uncertainty.Sheet(\"m*x/10**6\",\"Q\")\n",
      "Ladung.v('m',m[0],m[1])\n",
      "Ladung.v('x',dat2[0],dat2[1])\n",
      "Ladung.print_result()\n",
      "Q = Ladung.get_result()"
     ],
     "language": "python",
     "metadata": {},
     "outputs": [
      {
       "latex": [
        "$$Q=\\frac{m}{1000000} \\cdot x$$"
       ],
       "metadata": {},
       "output_type": "display_data",
       "text": [
        "<IPython.core.display.Math at 0x56fdab0>"
       ]
      },
      {
       "output_type": "stream",
       "stream": "stdout",
       "text": [
        "Q=\\frac{m}{1000000} \\cdot x\n",
        "\n"
       ]
      },
      {
       "latex": [
        "$$Q=\\left(6.78 \\pm 0.05\\right) \\times 10^{-7}$$"
       ],
       "metadata": {},
       "output_type": "display_data",
       "text": [
        "<IPython.core.display.Math at 0x56fd470>"
       ]
      },
      {
       "output_type": "stream",
       "stream": "stdout",
       "text": [
        "Q=\\left(6.78 \\pm 0.05\\right) \\times 10^{-7}\n",
        "\n"
       ]
      },
      {
       "latex": [
        "$$\\sigma_{Q}=\\frac{1}{1000000} \\cdot \\sqrt{m^{2} \\cdot \\sigma_{x}^{2} + \\sigma_{m}^{2} \\cdot x^{2}}$$"
       ],
       "metadata": {},
       "output_type": "display_data",
       "text": [
        "<IPython.core.display.Math at 0x56fdfd0>"
       ]
      },
      {
       "output_type": "stream",
       "stream": "stdout",
       "text": [
        "\\sigma_{Q}=\\frac{1}{1000000} \\cdot \\sqrt{m^{2} \\cdot \\sigma_{x}^{2} + \\sigma_{m}^{2} \\cdot x^{2}}\n",
        "\n"
       ]
      }
     ],
     "prompt_number": 50
    },
    {
     "cell_type": "code",
     "collapsed": false,
     "input": [
      "epsilon0 = ma.uncertainty.Sheet(\"q/a/u\",\"\\\\varepsilon_0\")\n",
      "epsilon0.v('a',a)\n",
      "epsilon0.v('q',Q[0],Q[1],'Q')\n",
      "epsilon0.v('u',U[0],U[1],'U')\n",
      "epsilon0.print_result()"
     ],
     "language": "python",
     "metadata": {},
     "outputs": [
      {
       "latex": [
        "$$\\varepsilon_0=\\frac{Q}{a \\cdot U}$$"
       ],
       "metadata": {},
       "output_type": "display_data",
       "text": [
        "<IPython.core.display.Math at 0x57db910>"
       ]
      },
      {
       "output_type": "stream",
       "stream": "stdout",
       "text": [
        "\\varepsilon_0=\\frac{Q}{a \\cdot U}\n",
        "\n"
       ]
      },
      {
       "latex": [
        "$$\\varepsilon_0=\\left(8.11 \\pm 0.06\\right) \\times 10^{-12}$$"
       ],
       "metadata": {},
       "output_type": "display_data",
       "text": [
        "<IPython.core.display.Math at 0x57db790>"
       ]
      },
      {
       "output_type": "stream",
       "stream": "stdout",
       "text": [
        "\\varepsilon_0=\\left(8.11 \\pm 0.06\\right) \\times 10^{-12}\n",
        "\n"
       ]
      },
      {
       "latex": [
        "$$\\sigma_{\\varepsilon_0}=\\frac{1}{a \\cdot U^{2}} \\cdot \\sqrt{Q^{2} \\cdot \\sigma_{U}^{2} + \\sigma_{Q}^{2} \\cdot U^{2}}$$"
       ],
       "metadata": {},
       "output_type": "display_data",
       "text": [
        "<IPython.core.display.Math at 0x57dbd70>"
       ]
      },
      {
       "output_type": "stream",
       "stream": "stdout",
       "text": [
        "\\sigma_{\\varepsilon_0}=\\frac{1}{a \\cdot U^{2}} \\cdot \\sqrt{Q^{2} \\cdot \\sigma_{U}^{2} + \\sigma_{Q}^{2} \\cdot U^{2}}\n",
        "\n"
       ]
      },
      {
       "metadata": {},
       "output_type": "pyout",
       "prompt_number": 52,
       "text": [
        "8.106904575029204e-12+/-6.19234106230606e-14"
       ]
      }
     ],
     "prompt_number": 52
    },
    {
     "cell_type": "code",
     "collapsed": false,
     "input": [],
     "language": "python",
     "metadata": {},
     "outputs": []
    }
   ],
   "metadata": {}
  }
 ]
}